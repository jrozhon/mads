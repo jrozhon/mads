{
 "cells": [
  {
   "cell_type": "markdown",
   "id": "cfb287a9-e6c4-49d3-95e4-6c7a82ac47db",
   "metadata": {},
   "source": [
    "# Callbacks in NS-3 with Python bindings"
   ]
  },
  {
   "cell_type": "markdown",
   "id": "d47fbd3f-a10d-4649-b95f-97141b2de2fe",
   "metadata": {},
   "source": [
    "First, let's import the bindings of NS-3."
   ]
  },
  {
   "cell_type": "code",
   "execution_count": null,
   "id": "b9e51c04-ad1a-4c9a-8e1b-8c5749702911",
   "metadata": {},
   "outputs": [],
   "source": [
    "from ns import ns"
   ]
  },
  {
   "cell_type": "markdown",
   "id": "ea4b8f00-8615-4d99-9a87-d6b1d7de980c",
   "metadata": {},
   "source": [
    "In the ns-3 network simulator, events play a crucial role. Think of events as specific triggers that cause changes within the simulator's state machine, helping to simulate different situations and conditions in a network.\n",
    "\n",
    "Here's a simple way to understand events:\n",
    "\n",
    "### Events\n",
    "These are like alarms set for specific times to perform specific tasks. In ns-3, they help in changing the state or condition within the simulation.\n",
    "\n",
    "### Tuple\n",
    "Events are generally made up of a tuple, which is a pair of related elements. In this case, the tuple contains a delay and a function pointer.\n",
    "- **Delay**: This is the time difference between the current time (ns.Simulator.Now() in Python) and the future time when the event will be activated or dispatched. It tells the simulator when to execute the event.\n",
    "- **Function Pointer**: This points to the function that will be executed when the event is dispatched. It tells the simulator what to do when the event time arrives.\n",
    "\n",
    "So, in essence, an event in ns-3 tells the simulator what to do (function pointer) and when to do it (delay). This mechanism helps in effectively simulating various network scenarios and observing their behaviors."
   ]
  },
  {
   "cell_type": "markdown",
   "id": "e48a5207-4a01-45ad-9298-f9a9504a2d42",
   "metadata": {},
   "source": [
    "## Simple Events"
   ]
  },
  {
   "cell_type": "markdown",
   "id": "06983593-7b20-40c7-89e5-4dde96da772a",
   "metadata": {},
   "source": [
    "To understand how events work in ns-3 with Python bindings, let's begin with a simple exercise. We will create a function that will be called by an event.\n",
    "This function's job is just to print the current virtual time of the simulator.\n",
    "\n",
    "Here are the steps to follow:\n",
    "\n",
    "1. Create a Function\n",
    "First, define a function. Let’s name it print_virtual_time. This function will not take any parameters.\n",
    "Inside the function, use ns.Simulator.Now() to get the current virtual time of the simulator.\n",
    "Print the obtained virtual time.\n",
    "\n",
    "1. Schedule an Event\n",
    "Now, schedule an event to call the print_virtual_time function after a certain delay. Use ns.Simulator.Schedule() to schedule the event.\n",
    "Provide the delay and the function name as parameters.\n",
    "\n",
    "1. Run the Simulator\n",
    "Finally, run the simulator using ns.Simulator.Run() to see the output.\n",
    "You will see the printed virtual time after the delay you set.\n",
    "\n",
    "By following these steps, you have created an event that triggers a function to print the current virtual time of the simulator. This is a basic example to help you understand how events and scheduling work in ns-3 using Python bindings.\n"
   ]
  },
  {
   "cell_type": "markdown",
   "id": "8e6a51ed-21f0-458e-bb5e-774596e3a81c",
   "metadata": {},
   "source": [
    "Here's how you can write the function in Python:"
   ]
  },
  {
   "cell_type": "code",
   "execution_count": null,
   "id": "a9e8f472-b873-4f06-846f-1d7c709f7881",
   "metadata": {},
   "outputs": [],
   "source": [
    "def print_virtual_time() -> None:\n",
    "    print(f\"The current virtual time: {ns.Simulator.Now()}\")"
   ]
  },
  {
   "cell_type": "markdown",
   "id": "fa6e8e8e-611d-4f8d-9bf2-10949b4b4f8b",
   "metadata": {},
   "source": [
    "Although there is a function to schedule an event in ns-3 that would look for our example such as follows (we schedule a function call after 5 seconds):"
   ]
  },
  {
   "cell_type": "markdown",
   "id": "942c0dda-173b-4b3b-80da-652b8ab53874",
   "metadata": {
    "scrolled": true
   },
   "source": [
    "```python\n",
    "ns.Simulator.Schedule(ns.Seconds(5), print_virtual_time)\n",
    "```"
   ]
  },
  {
   "cell_type": "markdown",
   "id": "e661021e-2468-4ddc-93cc-0ecedc372186",
   "metadata": {},
   "source": [
    "It will not work as Python callable is not accepted by the C++ code of the simulator. To overcome this, we can use a following function:"
   ]
  },
  {
   "cell_type": "code",
   "execution_count": null,
   "id": "43475f9c-f3be-4924-b192-9acf64ffa8ce",
   "metadata": {},
   "outputs": [],
   "source": [
    "ns.cppyy.cppdef(\"\"\"\n",
    "    EventImpl* mdsMakeEvent(void (*f)())\n",
    "    {\n",
    "        return MakeEvent(f);\n",
    "    }\n",
    "\"\"\")\n"
   ]
  },
  {
   "cell_type": "markdown",
   "id": "9c012d27-3730-4364-a268-3877589bba54",
   "metadata": {},
   "source": [
    "Now, we can use the newly defined C++ function to convert our Python callable so that it can be used in ns-3. Don't forget to use correct namespace of cppyy library."
   ]
  },
  {
   "cell_type": "code",
   "execution_count": null,
   "id": "26408dfc-f562-4ba3-96b8-7cb332f2ad70",
   "metadata": {},
   "outputs": [],
   "source": [
    "ns.cppyy.gbl.mdsMakeEvent(print_virtual_time)"
   ]
  },
  {
   "cell_type": "markdown",
   "id": "d7b9e8d6-f299-4e1f-b48c-e46afb860b24",
   "metadata": {},
   "source": [
    "For more information on EventImpl class, please visit ns-3 documentation: https://www.nsnam.org/docs/release/3.39/doxygen/d7/da2/classns3_1_1_event_impl.html"
   ]
  },
  {
   "cell_type": "code",
   "execution_count": null,
   "id": "bab79906-04bf-4dee-9feb-06f4ea1ab525",
   "metadata": {},
   "outputs": [],
   "source": [
    "# Print current time (0s)\n",
    "print_virtual_time()\n",
    "\n",
    "for i in range(1, 10):\n",
    "    # Create an event for each second of the simulation\n",
    "    event = ns.cppyy.gbl.mdsMakeEvent(print_virtual_time)\n",
    "    ns.Simulator.Schedule(ns.Seconds(i), event)\n",
    "\n",
    "# Set the simulation to stop after 15 seconds\n",
    "ns.Simulator.Stop(ns.Seconds(15))\n",
    "\n",
    "# Run the simulator\n",
    "ns.Simulator.Run()\n",
    "\n",
    "# And destroy it after simulation finishes\n",
    "ns.Simulator.Destroy()"
   ]
  },
  {
   "cell_type": "markdown",
   "id": "9db147c2-1a03-433d-9617-2dfb1b34fa28",
   "metadata": {},
   "source": [
    "## Task"
   ]
  },
  {
   "cell_type": "markdown",
   "id": "327de7e3-634e-4c6b-915d-8c1183c9f461",
   "metadata": {},
   "source": [
    "1. Modify the code so that it displays virtual time in seconds."
   ]
  },
  {
   "cell_type": "markdown",
   "id": "d171b6b3-c23d-47a0-9972-42cb9102f6a9",
   "metadata": {},
   "source": [
    "## Repeated events"
   ]
  },
  {
   "cell_type": "markdown",
   "id": "3ad6c61d-25c2-4337-8a35-554cce9ea4d4",
   "metadata": {},
   "source": [
    "We can modify the transformation function to schedule a repeated events for us."
   ]
  },
  {
   "cell_type": "code",
   "execution_count": null,
   "id": "c6efe06e-01b3-4932-b8a8-9e0e1548aee4",
   "metadata": {},
   "outputs": [],
   "source": [
    "ns.cppyy.cppdef(\"\"\"\n",
    "    EventImpl* mdsRepeatedMakeEvent(void (*f)(ns3::Time&), ns3::Time period)\n",
    "    {\n",
    "        return MakeEvent(f, period);\n",
    "    }\n",
    "\"\"\")"
   ]
  },
  {
   "cell_type": "code",
   "execution_count": null,
   "id": "a767e282-8885-442d-9ff1-37bb0baaadb3",
   "metadata": {},
   "outputs": [],
   "source": [
    "def print_virtual_time_rep(period: ns.Time) -> None:\n",
    "    print(f\"The current virtual time: {ns.Simulator.Now()}\")\n",
    "    event = ns.cppyy.gbl.mdsRepeatedMakeEvent(print_virtual_time_rep, period)\n",
    "    ns.Simulator.Schedule(period, event)"
   ]
  },
  {
   "cell_type": "code",
   "execution_count": null,
   "id": "19d89a1d-ffb2-4e79-8af7-2252ed22c7f3",
   "metadata": {},
   "outputs": [],
   "source": [
    "# Print current time (0s)\n",
    "print_virtual_time()\n",
    "\n",
    "# Create an event for each second of the simulation\n",
    "event = ns.cppyy.gbl.mdsRepeatedMakeEvent(print_virtual_time_rep, ns.Seconds(1))\n",
    "ns.Simulator.Schedule(ns.Seconds(1), event)\n",
    "\n",
    "# Set the simulation to stop after 15 seconds\n",
    "ns.Simulator.Stop(ns.Seconds(15))\n",
    "\n",
    "# Run the simulator\n",
    "ns.Simulator.Run()\n",
    "\n",
    "# And destroy it after simulation finishes\n",
    "ns.Simulator.Destroy()"
   ]
  },
  {
   "cell_type": "markdown",
   "id": "f023a809-4f7e-4652-8a3e-afb131f75cc0",
   "metadata": {},
   "source": [
    "Now, we only schedule the first event and all the other events are scheduled automatically using the recursive function call."
   ]
  },
  {
   "cell_type": "markdown",
   "id": "5d606e84-6394-4dd6-88b6-f4692b818931",
   "metadata": {},
   "source": [
    "## Adding randomness to simulation"
   ]
  },
  {
   "cell_type": "markdown",
   "id": "0f2c72cd-9e3b-4b1e-9e36-59cac3b5d482",
   "metadata": {},
   "source": [
    "We can use events to change the parameters of simulation on the fly. Now, for instance, we can change the packet size of the UDP datagrams generated by UdpEchoClient application."
   ]
  },
  {
   "cell_type": "code",
   "execution_count": null,
   "id": "3046ae1e-0c48-48e5-8975-9a6c51bf6760",
   "metadata": {},
   "outputs": [],
   "source": [
    "ns.cppyy.cppdef(\"\"\"\n",
    "    EventImpl* mdsPacketSizeChangeMakeEvent(void (*f)(Ptr<UdpEchoClient>), Ptr<UdpEchoClient> cli)\n",
    "    {\n",
    "        return MakeEvent(f, cli);\n",
    "    }\n",
    "\"\"\")"
   ]
  },
  {
   "cell_type": "code",
   "execution_count": null,
   "id": "2d2d8b11-71b3-49f1-b578-3319b980b670",
   "metadata": {},
   "outputs": [],
   "source": [
    "import random\n",
    "from typing import Union\n",
    "\n",
    "def change_packet_size_event(echo_client: Union[ns.UdpEchoClient, ns.Ptr]) -> None:\n",
    "    try:\n",
    "        echo_client = echo_client.__deref__()\n",
    "    except AttributeError as e:\n",
    "        # already a UdpEchoClient\n",
    "        pass\n",
    "    echo_client.SetDataSize(random.randint(100, 1000))\n",
    "    event = ns.cppyy.gbl.mdsPacketSizeChangeMakeEvent(change_packet_size_event, echo_client)\n",
    "    ns.Simulator.Schedule(ns.Seconds(1), event)\n",
    "\n"
   ]
  },
  {
   "cell_type": "code",
   "execution_count": null,
   "id": "aaa79c54-750c-4f14-b9d8-a78d300aa2f8",
   "metadata": {},
   "outputs": [],
   "source": [
    "ns.LogComponentEnable(\"UdpEchoClientApplication\", ns.core.LOG_LEVEL_INFO)\n",
    "ns.LogComponentEnable(\"UdpEchoServerApplication\", ns.core.LOG_LEVEL_INFO)"
   ]
  },
  {
   "cell_type": "code",
   "execution_count": null,
   "id": "d2cb8189-761d-4e38-956b-7de6c8b3933b",
   "metadata": {},
   "outputs": [],
   "source": [
    "nodes = ns.network.NodeContainer()\n",
    "nodes.Create(2)\n",
    "\n",
    "p2p = ns.point_to_point.PointToPointHelper()\n",
    "p2p.SetDeviceAttribute(\"DataRate\", ns.core.StringValue(\"5Mbps\"))\n",
    "p2p.SetChannelAttribute(\"Delay\", ns.core.StringValue(\"2ms\"))\n",
    "\n",
    "devices = p2p.Install(nodes)\n",
    "\n",
    "ip_stack = ns.internet.InternetStackHelper()\n",
    "ip_stack.Install(nodes)\n",
    "\n",
    "addr = ns.internet.Ipv4AddressHelper()\n",
    "addr.SetBase(ns.network.Ipv4Address(\"10.0.0.0\"),\n",
    "                ns.network.Ipv4Mask(\"255.255.255.0\"))\n",
    "\n",
    "ifaces = addr.Assign(devices)\n",
    "\n",
    "ECHO_PORT = 9\n",
    "echo_srv_helper = ns.UdpEchoServerHelper(ECHO_PORT)\n",
    "srv_apps = echo_srv_helper.Install(nodes.Get(1))\n",
    "srv_addr = ifaces.GetAddress(1).ConvertTo()\n",
    "\n",
    "echo_client_helper = ns.applications.UdpEchoClientHelper(srv_addr, ECHO_PORT)\n",
    "client_apps = echo_client_helper.Install(nodes.Get(0))\n",
    "print(f\"Client apps: {client_apps.GetN()}\")\n",
    "\n",
    "attrs = {\n",
    "    \"MaxPackets\": ns.UintegerValue,\n",
    "    \"Interval\": ns.TimeValue,\n",
    "    \"PacketSize\": ns.UintegerValue,\n",
    "}\n",
    "for attr, f in attrs.items():\n",
    "    f = f()\n",
    "    client_apps.Get(0).__deref__().GetAttribute(attr, f)\n",
    "    print(f\"\\t{attr}: {f.Get()}\")\n",
    "\n",
    "# Schedule packet size change\n",
    "ec = client_apps.Get(0).GetObject[ns.UdpEchoClient]()\n",
    "event = ns.cppyy.gbl.mdsPacketSizeChangeMakeEvent(change_packet_size_event, ec)\n",
    "ns.Simulator.Schedule(ns.Seconds(1), event)\n",
    "\n",
    "## Time the simulation\n",
    "\n",
    "srv_apps.Start(ns.core.Seconds(1.0))\n",
    "srv_apps.Stop(ns.core.Seconds(20.0))\n",
    "client_apps.Start(ns.core.Seconds(2.0)) # has to be later than server\n",
    "client_apps.Stop(ns.core.Seconds(20.0))\n",
    "\n",
    "## Run the simulator\n",
    "\n",
    "ns.Simulator.Stop(ns.Seconds(20))\n",
    "ns.Simulator.Run()\n",
    "ns.Simulator.Destroy()"
   ]
  }
 ],
 "metadata": {
  "kernelspec": {
   "display_name": "Python 3 (ipykernel)",
   "language": "python",
   "name": "python3"
  },
  "language_info": {
   "codemirror_mode": {
    "name": "ipython",
    "version": 3
   },
   "file_extension": ".py",
   "mimetype": "text/x-python",
   "name": "python",
   "nbconvert_exporter": "python",
   "pygments_lexer": "ipython3",
   "version": "3.10.12"
  }
 },
 "nbformat": 4,
 "nbformat_minor": 5
}
