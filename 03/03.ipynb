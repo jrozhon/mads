{
 "cells": [
  {
   "cell_type": "code",
   "execution_count": 1,
   "id": "89be9e1a-99f8-43b4-b5d5-cc695afa9a7c",
   "metadata": {},
   "outputs": [],
   "source": [
    "from ns import ns"
   ]
  },
  {
   "cell_type": "code",
   "execution_count": 2,
   "id": "bd49d99c-6eb3-450a-bdf4-0eeb12f5beff",
   "metadata": {},
   "outputs": [],
   "source": [
    "networks = (1,2,3)\n",
    "node_containers = []\n",
    "# net_devices = {\n",
    "#     \"trunk\": [],\n",
    "#     \"leaves\": {x:[] for x in range(len(networks))}\n",
    "# }\n",
    "\n",
    "bridge_device_containers = [ns.internet.NetDeviceContainer() for _ in range(len(networks))]\n",
    "net_device_containers = [ns.internet.NetDeviceContainer() for _ in range(len(networks))]\n",
    "\n",
    "switch_container = ns.network.NodeContainer()\n",
    "switch_container.Create(len(networks))\n",
    "router_node_container = ns.network.NodeContainer()\n",
    "router_node_container.Create(1)"
   ]
  },
  {
   "cell_type": "markdown",
   "id": "ba653171-c0a0-477a-b584-7a623157bc54",
   "metadata": {},
   "source": [
    "> Note that we are creating a container for a single node. This is because of the internet stack installation several steps later."
   ]
  },
  {
   "cell_type": "code",
   "execution_count": 3,
   "id": "384edd50-f7d3-42e9-888c-89d36c9ef4f6",
   "metadata": {},
   "outputs": [],
   "source": [
    "for network in networks:\n",
    "    node_container = ns.network.NodeContainer()\n",
    "    node_container.Create(3)\n",
    "    node_containers.append(node_container)"
   ]
  },
  {
   "cell_type": "code",
   "execution_count": 4,
   "id": "c8adbb7f-9900-45b4-bf4a-fbf13f9d5f5c",
   "metadata": {},
   "outputs": [],
   "source": [
    "csma = ns.csma.CsmaHelper()"
   ]
  },
  {
   "cell_type": "code",
   "execution_count": 5,
   "id": "6aa234b2-3cd9-4972-9e0a-0de466f65f9c",
   "metadata": {},
   "outputs": [],
   "source": [
    "for idx, node_container in enumerate(node_containers):\n",
    "    for node_idx in range(node_container.GetN()):\n",
    "        csma_node_pair = ns.network.NodeContainer()\n",
    "        csma_node_pair.Add(node_container.Get(node_idx))\n",
    "        csma_node_pair.Add(switch_container.Get(idx))\n",
    "        devices = csma.Install(csma_node_pair)\n",
    "        bridge_device_containers[idx].Add(devices.Get(1))\n",
    "        net_device_containers[idx].Add(devices.Get(0))\n",
    "    csma_node_pair = ns.network.NodeContainer()\n",
    "    csma_node_pair.Add(switch_container.Get(idx))\n",
    "    csma_node_pair.Add(router_node_container.Get(0))\n",
    "    devices = csma.Install(csma_node_pair)\n",
    "    bridge_device_containers[idx].Add(devices.Get(0))\n",
    "    net_device_containers[idx].Add(devices.Get(1))"
   ]
  },
  {
   "cell_type": "markdown",
   "id": "b9b9c13e-bb68-4bcc-9238-b3937d1d87d7",
   "metadata": {},
   "source": [
    "## Create bridges"
   ]
  },
  {
   "cell_type": "code",
   "execution_count": 6,
   "id": "cd27bb34-7081-4af8-9728-cb69817f2d3a",
   "metadata": {},
   "outputs": [],
   "source": [
    "bridge_helper = ns.bridge.BridgeHelper()"
   ]
  },
  {
   "cell_type": "code",
   "execution_count": 7,
   "id": "01d89fc0-7191-4b2c-8892-301eb36c35d5",
   "metadata": {},
   "outputs": [],
   "source": [
    "for idx, bridge_device_container in enumerate(bridge_device_containers):\n",
    "    bridge_helper.Install(switch_container.Get(idx), bridge_device_container)"
   ]
  },
  {
   "cell_type": "markdown",
   "id": "a407a083-7cd0-4bf9-a312-b6e59db98376",
   "metadata": {},
   "source": [
    "### Task\n",
    "\n",
    "Check the number of devices on switches."
   ]
  },
  {
   "cell_type": "code",
   "execution_count": 8,
   "id": "a92a1513-2fdd-49b8-83fc-0120a40ee99d",
   "metadata": {},
   "outputs": [],
   "source": [
    "internet = ns.internet.InternetStackHelper()\n",
    "\n",
    "for node_container in node_containers:\n",
    "    internet.Install(node_container)\n",
    "\n",
    "# this step can cause a kernel reset if performed on nodes directly\n",
    "internet.Install(router_node_container)"
   ]
  },
  {
   "cell_type": "code",
   "execution_count": 9,
   "id": "befcaefe-75f6-47bf-b975-1f420a3a4ba2",
   "metadata": {},
   "outputs": [],
   "source": [
    "addr = ns.internet.Ipv4AddressHelper()\n",
    "addr.SetBase(ns.network.Ipv4Address(f\"10.0.{networks[0]}.0\"),\n",
    "                ns.network.Ipv4Mask(\"255.255.255.0\"))\n",
    "\n",
    "ifaces = []\n",
    "\n",
    "for idx, network_id in enumerate(networks):\n",
    "    device_ifaces = addr.Assign(net_device_containers[idx])\n",
    "    ifaces.append(device_ifaces)\n",
    "    addr.NewNetwork()"
   ]
  },
  {
   "cell_type": "code",
   "execution_count": 10,
   "id": "5e73cff4-216c-49e2-9314-88d15d05fa34",
   "metadata": {},
   "outputs": [
    {
     "data": {
      "text/plain": [
       "[<cppyy.gbl.ns3.Ipv4InterfaceContainer object at 0x560ad2a853e0>,\n",
       " <cppyy.gbl.ns3.Ipv4InterfaceContainer object at 0x560ad2a85400>,\n",
       " <cppyy.gbl.ns3.Ipv4InterfaceContainer object at 0x560ad2922480>]"
      ]
     },
     "execution_count": 10,
     "metadata": {},
     "output_type": "execute_result"
    }
   ],
   "source": [
    "ifaces"
   ]
  },
  {
   "cell_type": "code",
   "execution_count": 11,
   "id": "9e1d63f5-0146-4aac-8b38-31ab9d736ff4",
   "metadata": {},
   "outputs": [
    {
     "data": {
      "text/plain": [
       "4"
      ]
     },
     "execution_count": 11,
     "metadata": {},
     "output_type": "execute_result"
    }
   ],
   "source": [
    "ifaces[0].GetN()"
   ]
  },
  {
   "cell_type": "markdown",
   "id": "0c3b81b6-c98e-48db-b832-9d3ba9e1486b",
   "metadata": {},
   "source": [
    "## Applications"
   ]
  },
  {
   "cell_type": "code",
   "execution_count": 12,
   "id": "df959902-5f22-45fe-aae9-d4b123c50e7e",
   "metadata": {},
   "outputs": [],
   "source": [
    "local_servers = ns.network.NodeContainer()\n",
    "local_clients = ns.network.NodeContainer()\n",
    "remote_servers = ns.network.NodeContainer()\n",
    "remote_clients = ns.network.NodeContainer()\n",
    "\n",
    "for idx, network_id in enumerate(networks):\n",
    "    local_servers.Add(node_containers[idx].Get(2))\n",
    "    local_clients.Add(node_containers[idx].Get(0))\n",
    "    if idx == 0:\n",
    "        remote_clients.Add(node_containers[idx].Get(1))\n",
    "    else:\n",
    "        remote_servers.Add(node_containers[idx].Get(1))\n",
    "\n",
    "servers = ns.network.NodeContainer()\n",
    "servers.Add(local_servers)\n",
    "servers.Add(remote_servers)"
   ]
  },
  {
   "cell_type": "code",
   "execution_count": 13,
   "id": "b38d7ceb-5278-4667-a744-f977fc43fffa",
   "metadata": {},
   "outputs": [],
   "source": [
    "ECHO_PORT = 9"
   ]
  },
  {
   "cell_type": "code",
   "execution_count": 14,
   "id": "402018a8-e294-4028-867c-89e0ed45d015",
   "metadata": {},
   "outputs": [
    {
     "name": "stdout",
     "output_type": "stream",
     "text": [
      "Servers: 5\n"
     ]
    }
   ],
   "source": [
    "echo_srv_helper = ns.UdpEchoServerHelper(ECHO_PORT)\n",
    "srv_apps = echo_srv_helper.Install(servers)\n",
    "print(f\"Servers: {srv_apps.GetN()}\")"
   ]
  },
  {
   "cell_type": "code",
   "execution_count": 15,
   "id": "22d99f2f-752a-4bee-b81b-b11358e4de01",
   "metadata": {},
   "outputs": [],
   "source": [
    "from lib.utils import get_node_ips, create_echo_client_helper"
   ]
  },
  {
   "cell_type": "code",
   "execution_count": 16,
   "id": "715a1aba-6bf3-43dd-8c2e-69e961acfabc",
   "metadata": {},
   "outputs": [
    {
     "name": "stdout",
     "output_type": "stream",
     "text": [
      "{\n",
      "  \"0\": [\n",
      "    \"m_local=127.0.0.1; m_mask=255.0.0.0; m_broadcast=127.255.255.255; m_scope=0; m_secondary=0\"\n",
      "  ],\n",
      "  \"1\": [\n",
      "    \"m_local=10.0.1.3; m_mask=255.255.255.0; m_broadcast=10.0.1.255; m_scope=2; m_secondary=0\"\n",
      "  ]\n",
      "}\n"
     ]
    },
    {
     "data": {
      "text/plain": [
       "{0: [<cppyy.gbl.ns3.Ipv4InterfaceAddress object at 0x560ad2dae250>],\n",
       " 1: [<cppyy.gbl.ns3.Ipv4InterfaceAddress object at 0x560ad35e2b70>]}"
      ]
     },
     "execution_count": 16,
     "metadata": {},
     "output_type": "execute_result"
    }
   ],
   "source": [
    "get_node_ips(servers.Get(0), verbose=True)"
   ]
  },
  {
   "cell_type": "code",
   "execution_count": 29,
   "id": "44be4901-8545-47b2-8a91-f89f04e57e23",
   "metadata": {},
   "outputs": [],
   "source": [
    "echo_clients = ns.applications.ApplicationContainer()\n",
    "for local_client_idx in range(local_clients.GetN()):\n",
    "    local_server_node = local_servers.Get(local_client_idx)\n",
    "    # always second interface, then first address\n",
    "    local_server_address = get_node_ips(local_server_node)[1][0].GetAddress().ConvertTo()\n",
    "    \n",
    "    echo_client_helper = create_echo_client_helper(local_server_address, ECHO_PORT)\n",
    "    echo_client_app = echo_client_helper.Install(local_clients.Get(local_client_idx))\n",
    "    echo_clients.Add(echo_client_app)\n",
    "\n",
    "remote_server_address = get_node_ips(remote_servers.Get(0))[1][0].GetAddress().ConvertTo()\n",
    "\n",
    "echo_client_helper = create_echo_client_helper(local_server_address, ECHO_PORT)\n",
    "echo_client_app = echo_client_helper.Install(remote_clients.Get(0))\n",
    "echo_clients.Add(echo_client_app)\n",
    "\n",
    "remote_server_address = get_node_ips(remote_servers.Get(1))[1][0].GetAddress().ConvertTo()\n",
    "\n",
    "echo_client_helper = create_echo_client_helper(local_server_address, ECHO_PORT)\n",
    "echo_client_app = echo_client_helper.Install(remote_clients.Get(0))\n",
    "echo_clients.Add(echo_client_app)"
   ]
  },
  {
   "cell_type": "code",
   "execution_count": 30,
   "id": "e0280eb6-79b0-4c15-82ef-bdf2189239db",
   "metadata": {},
   "outputs": [],
   "source": [
    "srv_apps.Start(ns.core.Seconds(1.0))\n",
    "srv_apps.Stop(ns.core.Seconds(10.0))\n",
    "echo_clients.Start(ns.core.Seconds(2.0)) # has to be later than server\n",
    "echo_clients.Stop(ns.core.Seconds(10.0))"
   ]
  },
  {
   "cell_type": "code",
   "execution_count": 31,
   "id": "d9868f7b-03d5-499a-9bf1-d31b3f9fb794",
   "metadata": {},
   "outputs": [],
   "source": [
    "ns.LogComponentEnable(\"UdpEchoClientApplication\", ns.core.LOG_LEVEL_INFO)\n",
    "ns.LogComponentEnable(\"UdpEchoServerApplication\", ns.core.LOG_LEVEL_INFO)"
   ]
  },
  {
   "cell_type": "code",
   "execution_count": 32,
   "id": "418f7878-3f03-4f0b-8935-1052dd950979",
   "metadata": {},
   "outputs": [
    {
     "name": "stderr",
     "output_type": "stream",
     "text": [
      "At time +2s client sent 1500 bytes to 10.0.1.3 port 9\n",
      "At time +2s client sent 1500 bytes to 10.0.3.3 port 9\n",
      "At time +2s client sent 1500 bytes to 10.0.3.3 port 9\n",
      "At time +2s client sent 1500 bytes to 10.0.2.3 port 9\n",
      "At time +2s client sent 1500 bytes to 10.0.3.3 port 9\n",
      "At time +2.00201s server received 1500 bytes from 10.0.3.1 port 49153\n",
      "At time +2.00201s server sent 1500 bytes to 10.0.3.1 port 49153\n",
      "At time +2.00601s server received 1500 bytes from 10.0.1.1 port 49153\n",
      "At time +2.00601s server sent 1500 bytes to 10.0.1.1 port 49153\n",
      "At time +2.00701s server received 1500 bytes from 10.0.2.1 port 49153\n",
      "At time +2.00701s server sent 1500 bytes to 10.0.2.1 port 49153\n",
      "At time +2.00802s client received 1500 bytes from 10.0.3.3 port 9\n",
      "At time +2.00902s client received 1500 bytes from 10.0.2.3 port 9\n",
      "At time +2.01502s client received 1500 bytes from 10.0.1.3 port 9\n",
      "At time +3s client sent 1500 bytes to 10.0.1.3 port 9\n",
      "At time +3s client sent 1500 bytes to 10.0.3.3 port 9\n",
      "At time +3s client sent 1500 bytes to 10.0.3.3 port 9\n",
      "At time +3s client sent 1500 bytes to 10.0.2.3 port 9\n",
      "At time +3s client sent 1500 bytes to 10.0.3.3 port 9\n",
      "At time +3.00001s server received 1500 bytes from 10.0.1.1 port 49153\n",
      "At time +3.00001s server sent 1500 bytes to 10.0.1.1 port 49153\n",
      "At time +3.00001s server received 1500 bytes from 10.0.2.1 port 49153\n",
      "At time +3.00001s server sent 1500 bytes to 10.0.2.1 port 49153\n",
      "At time +3.00001s server received 1500 bytes from 10.0.3.1 port 49153\n",
      "At time +3.00001s server sent 1500 bytes to 10.0.3.1 port 49153\n",
      "At time +3.00001s client received 1500 bytes from 10.0.1.3 port 9\n",
      "At time +3.00001s client received 1500 bytes from 10.0.2.3 port 9\n",
      "At time +3.00001s client received 1500 bytes from 10.0.3.3 port 9\n",
      "At time +4s client sent 1500 bytes to 10.0.1.3 port 9\n",
      "At time +4s client sent 1500 bytes to 10.0.3.3 port 9\n",
      "At time +4s client sent 1500 bytes to 10.0.3.3 port 9\n",
      "At time +4s client sent 1500 bytes to 10.0.2.3 port 9\n",
      "At time +4s client sent 1500 bytes to 10.0.3.3 port 9\n",
      "At time +4.00001s server received 1500 bytes from 10.0.1.1 port 49153\n",
      "At time +4.00001s server sent 1500 bytes to 10.0.1.1 port 49153\n",
      "At time +4.00001s server received 1500 bytes from 10.0.2.1 port 49153\n",
      "At time +4.00001s server sent 1500 bytes to 10.0.2.1 port 49153\n",
      "At time +4.00001s server received 1500 bytes from 10.0.3.1 port 49153\n",
      "At time +4.00001s server sent 1500 bytes to 10.0.3.1 port 49153\n",
      "At time +4.00001s client received 1500 bytes from 10.0.1.3 port 9\n",
      "At time +4.00001s client received 1500 bytes from 10.0.2.3 port 9\n",
      "At time +4.00001s client received 1500 bytes from 10.0.3.3 port 9\n",
      "At time +5s client sent 1500 bytes to 10.0.1.3 port 9\n",
      "At time +5s client sent 1500 bytes to 10.0.3.3 port 9\n",
      "At time +5s client sent 1500 bytes to 10.0.3.3 port 9\n",
      "At time +5s client sent 1500 bytes to 10.0.2.3 port 9\n",
      "At time +5s client sent 1500 bytes to 10.0.3.3 port 9\n",
      "At time +5.00001s server received 1500 bytes from 10.0.1.1 port 49153\n",
      "At time +5.00001s server sent 1500 bytes to 10.0.1.1 port 49153\n",
      "At time +5.00001s server received 1500 bytes from 10.0.2.1 port 49153\n",
      "At time +5.00001s server sent 1500 bytes to 10.0.2.1 port 49153\n",
      "At time +5.00001s server received 1500 bytes from 10.0.3.1 port 49153\n",
      "At time +5.00001s server sent 1500 bytes to 10.0.3.1 port 49153\n",
      "At time +5.00001s client received 1500 bytes from 10.0.1.3 port 9\n",
      "At time +5.00001s client received 1500 bytes from 10.0.2.3 port 9\n",
      "At time +5.00001s client received 1500 bytes from 10.0.3.3 port 9\n",
      "At time +6s client sent 1500 bytes to 10.0.1.3 port 9\n",
      "At time +6s client sent 1500 bytes to 10.0.3.3 port 9\n",
      "At time +6s client sent 1500 bytes to 10.0.3.3 port 9\n",
      "At time +6s client sent 1500 bytes to 10.0.2.3 port 9\n",
      "At time +6s client sent 1500 bytes to 10.0.3.3 port 9\n",
      "At time +6.00001s server received 1500 bytes from 10.0.1.1 port 49153\n",
      "At time +6.00001s server sent 1500 bytes to 10.0.1.1 port 49153\n",
      "At time +6.00001s server received 1500 bytes from 10.0.2.1 port 49153\n",
      "At time +6.00001s server sent 1500 bytes to 10.0.2.1 port 49153\n",
      "At time +6.00001s server received 1500 bytes from 10.0.3.1 port 49153\n",
      "At time +6.00001s server sent 1500 bytes to 10.0.3.1 port 49153\n",
      "At time +6.00001s client received 1500 bytes from 10.0.1.3 port 9\n",
      "At time +6.00001s client received 1500 bytes from 10.0.2.3 port 9\n",
      "At time +6.00001s client received 1500 bytes from 10.0.3.3 port 9\n",
      "At time +7s client sent 1500 bytes to 10.0.1.3 port 9\n",
      "At time +7s client sent 1500 bytes to 10.0.3.3 port 9\n",
      "At time +7s client sent 1500 bytes to 10.0.3.3 port 9\n",
      "At time +7s client sent 1500 bytes to 10.0.2.3 port 9\n",
      "At time +7s client sent 1500 bytes to 10.0.3.3 port 9\n",
      "At time +7.00001s server received 1500 bytes from 10.0.1.1 port 49153\n",
      "At time +7.00001s server sent 1500 bytes to 10.0.1.1 port 49153\n",
      "At time +7.00001s server received 1500 bytes from 10.0.2.1 port 49153\n",
      "At time +7.00001s server sent 1500 bytes to 10.0.2.1 port 49153\n",
      "At time +7.00001s server received 1500 bytes from 10.0.3.1 port 49153\n",
      "At time +7.00001s server sent 1500 bytes to 10.0.3.1 port 49153\n",
      "At time +7.00001s client received 1500 bytes from 10.0.1.3 port 9\n",
      "At time +7.00001s client received 1500 bytes from 10.0.2.3 port 9\n",
      "At time +7.00001s client received 1500 bytes from 10.0.3.3 port 9\n",
      "At time +8s client sent 1500 bytes to 10.0.1.3 port 9\n",
      "At time +8s client sent 1500 bytes to 10.0.3.3 port 9\n",
      "At time +8s client sent 1500 bytes to 10.0.3.3 port 9\n",
      "At time +8s client sent 1500 bytes to 10.0.2.3 port 9\n",
      "At time +8s client sent 1500 bytes to 10.0.3.3 port 9\n",
      "At time +8.00001s server received 1500 bytes from 10.0.1.1 port 49153\n",
      "At time +8.00001s server sent 1500 bytes to 10.0.1.1 port 49153\n",
      "At time +8.00001s server received 1500 bytes from 10.0.2.1 port 49153\n",
      "At time +8.00001s server sent 1500 bytes to 10.0.2.1 port 49153\n",
      "At time +8.00001s server received 1500 bytes from 10.0.3.1 port 49153\n",
      "At time +8.00001s server sent 1500 bytes to 10.0.3.1 port 49153\n",
      "At time +8.00001s client received 1500 bytes from 10.0.1.3 port 9\n",
      "At time +8.00001s client received 1500 bytes from 10.0.2.3 port 9\n",
      "At time +8.00001s client received 1500 bytes from 10.0.3.3 port 9\n",
      "At time +9s client sent 1500 bytes to 10.0.1.3 port 9\n",
      "At time +9s client sent 1500 bytes to 10.0.3.3 port 9\n",
      "At time +9s client sent 1500 bytes to 10.0.3.3 port 9\n",
      "At time +9s client sent 1500 bytes to 10.0.2.3 port 9\n",
      "At time +9s client sent 1500 bytes to 10.0.3.3 port 9\n",
      "At time +9.00001s server received 1500 bytes from 10.0.1.1 port 49153\n",
      "At time +9.00001s server sent 1500 bytes to 10.0.1.1 port 49153\n",
      "At time +9.00001s server received 1500 bytes from 10.0.2.1 port 49153\n",
      "At time +9.00001s server sent 1500 bytes to 10.0.2.1 port 49153\n",
      "At time +9.00001s server received 1500 bytes from 10.0.3.1 port 49153\n",
      "At time +9.00001s server sent 1500 bytes to 10.0.3.1 port 49153\n",
      "At time +9.00001s client received 1500 bytes from 10.0.1.3 port 9\n",
      "At time +9.00001s client received 1500 bytes from 10.0.2.3 port 9\n",
      "At time +9.00001s client received 1500 bytes from 10.0.3.3 port 9\n"
     ]
    }
   ],
   "source": [
    "ns.Simulator.Stop(ns.Seconds(10))\n",
    "ns.Simulator.Run()\n",
    "ns.Simulator.Destroy()"
   ]
  }
 ],
 "metadata": {
  "kernelspec": {
   "display_name": "Python 3 (ipykernel)",
   "language": "python",
   "name": "python3"
  },
  "language_info": {
   "codemirror_mode": {
    "name": "ipython",
    "version": 3
   },
   "file_extension": ".py",
   "mimetype": "text/x-python",
   "name": "python",
   "nbconvert_exporter": "python",
   "pygments_lexer": "ipython3",
   "version": "3.10.12"
  }
 },
 "nbformat": 4,
 "nbformat_minor": 5
}
