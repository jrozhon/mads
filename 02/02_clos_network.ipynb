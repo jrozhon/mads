{
 "cells": [
  {
   "cell_type": "markdown",
   "id": "2d16a79d-b0dd-4c4e-8fb9-8329208e172b",
   "metadata": {},
   "source": [
    "# More complex topological structures - Clos network example"
   ]
  },
  {
   "cell_type": "markdown",
   "id": "4405f3e7-7f5a-4653-b1a3-646a668a4453",
   "metadata": {},
   "source": [
    "## Imports"
   ]
  },
  {
   "cell_type": "code",
   "execution_count": 1,
   "id": "17b9eb65-4d6a-45f0-8832-ab557ead1801",
   "metadata": {},
   "outputs": [],
   "source": [
    "import random\n",
    "\n",
    "from ns import ns"
   ]
  },
  {
   "cell_type": "markdown",
   "id": "2821f969-cd2e-469f-b411-386d48c007a6",
   "metadata": {},
   "source": [
    "Let's simulate a Clos network unsing NS-3 as described in the following figure:\n",
    "\n",
    "![Clos network](fig/clos_pure.drawio.png)"
   ]
  },
  {
   "cell_type": "markdown",
   "id": "15db453b-5f4a-4c4f-82da-216e5b27e268",
   "metadata": {},
   "source": [
    "## Definition of the structure of Clos network"
   ]
  },
  {
   "cell_type": "code",
   "execution_count": 2,
   "id": "ac6e72bd-aaae-4ec9-8613-05fe64d247e1",
   "metadata": {},
   "outputs": [],
   "source": [
    "NODES = (\n",
    "    4,  # input nodes\n",
    "    2,  # input switches\n",
    "    3,  # middle switches\n",
    "    2,  # output switches\n",
    "    4,  # output nodes\n",
    ")\n",
    "\n",
    "\n",
    "# Check the symmetry of the network and appropriate length\n",
    "assert len(NODES) == 5\n",
    "assert NODES[0] % NODES[1] == 0\n",
    "assert NODES[-1] % NODES[-2] == 0\n",
    "assert NODES[0] == NODES[-1]\n",
    "assert NODES[1] == NODES[-2]\n",
    "assert NODES[0] == NODES[1] ** 2"
   ]
  },
  {
   "cell_type": "markdown",
   "id": "2f348a72-bc72-4dec-908e-1caa52b567b1",
   "metadata": {},
   "source": [
    "## Supplementary functions"
   ]
  },
  {
   "cell_type": "code",
   "execution_count": 3,
   "id": "9dadaac6-0de7-496b-841a-ade5dae981b2",
   "metadata": {},
   "outputs": [],
   "source": [
    "# Here, you can add functions that will help you simulate the network\n",
    "from lib.utils import get_node_ip_from_idx"
   ]
  },
  {
   "cell_type": "markdown",
   "id": "aa8cb582-f5cc-4fbb-a2f7-77b2c3cd09fe",
   "metadata": {},
   "source": [
    "## Enable application-layer logging"
   ]
  },
  {
   "cell_type": "code",
   "execution_count": 4,
   "id": "8f8fa7c9-284f-4577-b295-f04f5d68623d",
   "metadata": {},
   "outputs": [],
   "source": [
    "ns.LogComponentEnable(\"UdpEchoClientApplication\", ns.core.LOG_LEVEL_INFO)\n",
    "ns.LogComponentEnable(\"UdpEchoServerApplication\", ns.core.LOG_LEVEL_INFO)"
   ]
  },
  {
   "cell_type": "markdown",
   "id": "4abea949-f3b7-40f9-b78b-e0f93da73736",
   "metadata": {},
   "source": [
    "## Create Nodes"
   ]
  },
  {
   "cell_type": "code",
   "execution_count": 5,
   "id": "76a69d68-ebf4-4853-9cc5-5c51bc8300a6",
   "metadata": {},
   "outputs": [],
   "source": [
    "# Create nodes for each stage\n",
    "node_containers = [ns.network.NodeContainer() for _ in NODES]\n",
    "x = 10.0\n",
    "for num, c in zip(NODES, node_containers):\n",
    "    y = 10.0\n",
    "    c.Create(num)\n",
    "    for node_idx in range(c.GetN()):\n",
    "        node = c.Get(node_idx).__deref__()\n",
    "        ns.AnimationInterface.SetConstantPosition(node, x, y)\n",
    "        y += 10.0\n",
    "    x += 10.0"
   ]
  },
  {
   "cell_type": "markdown",
   "id": "7ae884ab-01ca-4f21-9192-e7d9cdb2213d",
   "metadata": {},
   "source": [
    "## Install devices and link the layers together"
   ]
  },
  {
   "cell_type": "code",
   "execution_count": 6,
   "id": "f9904881-bb05-432f-ad44-45bc7d1e9d4d",
   "metadata": {},
   "outputs": [],
   "source": [
    "p2p = ns.point_to_point.PointToPointHelper()\n",
    "devices = {i: [] for i in range(len(NODES) - 1)}  # inter layer connections hence -1\n",
    "\n",
    "# Connect input switches to middle switches\n",
    "for connection_layer in devices.keys():\n",
    "    if connection_layer == 0:\n",
    "        for node_idx in range(NODES[0]):\n",
    "            switch_idx = node_idx // NODES[1]\n",
    "            devices[connection_layer].append(\n",
    "                {\n",
    "                    \"connection_layer\": connection_layer,\n",
    "                    \"l\": node_idx,\n",
    "                    \"r\": switch_idx,\n",
    "                    \"devices\": p2p.Install(\n",
    "                        node_containers[connection_layer].Get(node_idx),\n",
    "                        node_containers[connection_layer + 1].Get(switch_idx),\n",
    "                    ),  # returns NetDeviceContainer\n",
    "                }\n",
    "            )\n",
    "\n",
    "    elif connection_layer == len(NODES) - 2:  # -2 for last layer\n",
    "        # connections to sources/sinks with single device\n",
    "        for node_idx in range(NODES[-1]):\n",
    "            switch_idx = node_idx // NODES[-2]\n",
    "            devices[connection_layer].append(\n",
    "                {\n",
    "                    \"connection_layer\": connection_layer,\n",
    "                    \"l\": switch_idx,\n",
    "                    \"r\": node_idx,\n",
    "                    \"devices\": p2p.Install(\n",
    "                        node_containers[connection_layer].Get(switch_idx),\n",
    "                        node_containers[connection_layer + 1].Get(node_idx),\n",
    "                    ),  # returns NetDeviceContainer\n",
    "                }\n",
    "            )\n",
    "    else:\n",
    "        # interswitch connections hence more than one device\n",
    "        for i in range(NODES[connection_layer]):  # left side\n",
    "            for j in range(NODES[connection_layer + 1]):  # right side\n",
    "                devices[connection_layer].append(\n",
    "                    {\n",
    "                        \"connection_layer\": connection_layer,\n",
    "                        \"l\": i,\n",
    "                        \"r\": j,\n",
    "                        \"devices\": p2p.Install(\n",
    "                            node_containers[connection_layer].Get(i),\n",
    "                            node_containers[connection_layer + 1].Get(j),\n",
    "                        ),  # returns NetDeviceContainer\n",
    "                    }\n",
    "                )"
   ]
  },
  {
   "cell_type": "markdown",
   "id": "bf524f02-4e1d-4711-9709-d9080a36f0ea",
   "metadata": {},
   "source": [
    "## Add IP stack and addressing"
   ]
  },
  {
   "cell_type": "code",
   "execution_count": 7,
   "id": "bf6d05f2-c370-40e7-88f6-0d7d0e4f889d",
   "metadata": {},
   "outputs": [],
   "source": [
    "# Add Internet stack\n",
    "internet = ns.internet.InternetStackHelper()\n",
    "internet.InstallAll()\n",
    "\n",
    "# Assign IP addresses\n",
    "address = ns.internet.Ipv4AddressHelper()\n",
    "for layer, devs in devices.items():\n",
    "    for idx, dev in enumerate(devs):\n",
    "        base_ip = f\"10.{layer}.{idx}.0\"\n",
    "        address.SetBase(\n",
    "            ns.network.Ipv4Address(base_ip), ns.network.Ipv4Mask(\"255.255.255.0\")\n",
    "        )\n",
    "        address_container = address.Assign(dev[\"devices\"])\n",
    "        # store ip addresses for future use\n",
    "        dev[\"ip_addresses\"] = (\n",
    "            address_container.GetAddress(0),\n",
    "            address_container.GetAddress(1),\n",
    "        )\n",
    "\n",
    "ns.internet.Ipv4GlobalRoutingHelper.PopulateRoutingTables()"
   ]
  },
  {
   "cell_type": "markdown",
   "id": "54de148c-703f-4f55-be65-afea3c4c9e21",
   "metadata": {},
   "source": [
    "## Add applications"
   ]
  },
  {
   "cell_type": "code",
   "execution_count": 8,
   "id": "39272e51-c966-4952-8c3c-e829d897da1b",
   "metadata": {},
   "outputs": [
    {
     "name": "stdout",
     "output_type": "stream",
     "text": [
      "10.0.2.1 10.3.1.2\n",
      "10.0.3.1 10.3.3.2\n",
      "10.0.0.1 10.3.2.2\n",
      "10.0.1.1 10.3.0.2\n"
     ]
    }
   ],
   "source": [
    "# Set up traffic\n",
    "source_apps = ns.network.ApplicationContainer()\n",
    "dest_apps = ns.network.ApplicationContainer()\n",
    "\n",
    "# for i in range(num_switches_per_stage):\n",
    "\n",
    "source_nodes_idxs = list(range(NODES[0]))\n",
    "dest_nodes_idxs = list(range(NODES[-1]))\n",
    "for i in range(NODES[0]):\n",
    "    source_node_idx = random.choice(source_nodes_idxs)\n",
    "    dest_node_idx = random.choice(dest_nodes_idxs)\n",
    "    source_nodes_idxs.remove(source_node_idx)\n",
    "    dest_nodes_idxs.remove(dest_node_idx)\n",
    "\n",
    "    source_node = node_containers[0].Get(source_node_idx)\n",
    "    dest_node = node_containers[-1].Get(dest_node_idx)\n",
    "\n",
    "    source_addr = get_node_ip_from_idx(devices, 0, source_node_idx)\n",
    "    dest_addr = get_node_ip_from_idx(\n",
    "        devices, len(NODES) - 2, right_idx=dest_node_idx\n",
    "    )\n",
    "    print(source_addr, dest_addr)\n",
    "\n",
    "    port = 9\n",
    "\n",
    "    echo_srv_helper = ns.UdpEchoServerHelper(port)\n",
    "    dest_apps.Add(echo_srv_helper.Install(dest_node))\n",
    "\n",
    "    echo_client_helper = ns.applications.UdpEchoClientHelper(dest_addr.ConvertTo(), port)\n",
    "    echo_client_helper.SetAttribute(\"MaxPackets\", ns.core.UintegerValue(10))\n",
    "    # echo_client.SetAttribute(\"Interval\", ns.core.TimeValue(ns.core.Seconds(interval)))\n",
    "    # echo_client.SetAttribute(\"PacketSize\", ns.core.UintegerValue(packet_size))\n",
    "    source_apps.Add(echo_client_helper.Install(source_node))"
   ]
  },
  {
   "cell_type": "markdown",
   "id": "705f9235-68bd-44af-84eb-4ca3b82cf32a",
   "metadata": {},
   "source": [
    "## Enable PCAP logging"
   ]
  },
  {
   "cell_type": "code",
   "execution_count": 9,
   "id": "57bced60-5d0d-45b2-9777-04a2133db971",
   "metadata": {},
   "outputs": [],
   "source": [
    "p2p.EnablePcap(\"xxxxx\", devices[0][0]['devices'].Get(1), True)"
   ]
  },
  {
   "cell_type": "markdown",
   "id": "de361861-e55f-4f2d-8769-9a9f575b0987",
   "metadata": {},
   "source": [
    "## Enable Ascii logs"
   ]
  },
  {
   "cell_type": "code",
   "execution_count": 10,
   "id": "bb7ce905-8a3c-40ee-85ef-7ce1de328fdd",
   "metadata": {},
   "outputs": [],
   "source": [
    "p2p.EnableAsciiAll(\"clos-ascii-trace.tr\")"
   ]
  },
  {
   "cell_type": "markdown",
   "id": "aeb77d4a-0e01-44e7-abf8-34e837c8e48d",
   "metadata": {},
   "source": [
    "## Enable simulation logging"
   ]
  },
  {
   "cell_type": "code",
   "execution_count": 11,
   "id": "0d606197-913a-4dd5-954f-7a9f11655fd0",
   "metadata": {},
   "outputs": [],
   "source": [
    "animator = ns.netanim.AnimationInterface(\"clos-animation.xml\")"
   ]
  },
  {
   "cell_type": "markdown",
   "id": "17cfec6a-9125-4d0b-af42-276ce0ef04cd",
   "metadata": {},
   "source": [
    "## Time the simulation"
   ]
  },
  {
   "cell_type": "code",
   "execution_count": 12,
   "id": "a604c42d-348e-423c-8f1a-737dd1a15f53",
   "metadata": {},
   "outputs": [],
   "source": [
    "source_apps.Start(ns.core.Seconds(2.0))\n",
    "source_apps.Stop(ns.core.Seconds(10.0))\n",
    "dest_apps.Start(ns.core.Seconds(1.0))\n",
    "dest_apps.Stop(ns.core.Seconds(10.0))\n",
    "\n",
    "ns.Simulator.Stop(ns.Seconds(10))"
   ]
  },
  {
   "cell_type": "markdown",
   "id": "1625929a-86b8-4379-b722-2f2590d85014",
   "metadata": {},
   "source": [
    "## Run the simulation"
   ]
  },
  {
   "cell_type": "code",
   "execution_count": 13,
   "id": "0b352c66-5498-4b17-b53e-ce032605dbf4",
   "metadata": {},
   "outputs": [
    {
     "name": "stderr",
     "output_type": "stream",
     "text": [
      "At time +2s client sent 100 bytes to 10.3.2.2 port 9\n",
      "At time +2s client sent 100 bytes to 10.3.0.2 port 9\n",
      "At time +2s client sent 100 bytes to 10.3.1.2 port 9\n",
      "At time +2s client sent 100 bytes to 10.3.3.2 port 9\n",
      "At time +2.12695s server received 100 bytes from 10.0.0.1 port 49153\n",
      "At time +2.12695s server sent 100 bytes to 10.0.0.1 port 49153\n",
      "At time +2.12695s server received 100 bytes from 10.0.2.1 port 49153\n",
      "At time +2.12695s server sent 100 bytes to 10.0.2.1 port 49153\n",
      "At time +2.15869s server received 100 bytes from 10.0.3.1 port 49153\n",
      "At time +2.15869s server sent 100 bytes to 10.0.3.1 port 49153\n",
      "At time +2.15869s server received 100 bytes from 10.0.1.1 port 49153\n",
      "At time +2.15869s server sent 100 bytes to 10.0.1.1 port 49153\n",
      "At time +2.25391s client received 100 bytes from 10.3.2.2 port 9\n",
      "At time +2.25391s client received 100 bytes from 10.3.1.2 port 9\n",
      "At time +2.28564s client received 100 bytes from 10.3.0.2 port 9\n",
      "At time +2.28564s client received 100 bytes from 10.3.3.2 port 9\n",
      "At time +3s client sent 100 bytes to 10.3.2.2 port 9\n",
      "At time +3s client sent 100 bytes to 10.3.0.2 port 9\n",
      "At time +3s client sent 100 bytes to 10.3.1.2 port 9\n",
      "At time +3s client sent 100 bytes to 10.3.3.2 port 9\n",
      "At time +3.12695s server received 100 bytes from 10.0.0.1 port 49153\n",
      "At time +3.12695s server sent 100 bytes to 10.0.0.1 port 49153\n",
      "At time +3.12695s server received 100 bytes from 10.0.2.1 port 49153\n",
      "At time +3.12695s server sent 100 bytes to 10.0.2.1 port 49153\n",
      "At time +3.15869s server received 100 bytes from 10.0.3.1 port 49153\n",
      "At time +3.15869s server sent 100 bytes to 10.0.3.1 port 49153\n",
      "At time +3.15869s server received 100 bytes from 10.0.1.1 port 49153\n",
      "At time +3.15869s server sent 100 bytes to 10.0.1.1 port 49153\n",
      "At time +3.25391s client received 100 bytes from 10.3.2.2 port 9\n",
      "At time +3.25391s client received 100 bytes from 10.3.1.2 port 9\n",
      "At time +3.28564s client received 100 bytes from 10.3.0.2 port 9\n",
      "At time +3.28564s client received 100 bytes from 10.3.3.2 port 9\n",
      "At time +4s client sent 100 bytes to 10.3.2.2 port 9\n",
      "At time +4s client sent 100 bytes to 10.3.0.2 port 9\n",
      "At time +4s client sent 100 bytes to 10.3.1.2 port 9\n",
      "At time +4s client sent 100 bytes to 10.3.3.2 port 9\n",
      "At time +4.12695s server received 100 bytes from 10.0.0.1 port 49153\n",
      "At time +4.12695s server sent 100 bytes to 10.0.0.1 port 49153\n",
      "At time +4.12695s server received 100 bytes from 10.0.2.1 port 49153\n",
      "At time +4.12695s server sent 100 bytes to 10.0.2.1 port 49153\n",
      "At time +4.15869s server received 100 bytes from 10.0.3.1 port 49153\n",
      "At time +4.15869s server sent 100 bytes to 10.0.3.1 port 49153\n",
      "At time +4.15869s server received 100 bytes from 10.0.1.1 port 49153\n",
      "At time +4.15869s server sent 100 bytes to 10.0.1.1 port 49153\n",
      "At time +4.25391s client received 100 bytes from 10.3.2.2 port 9\n",
      "At time +4.25391s client received 100 bytes from 10.3.1.2 port 9\n",
      "At time +4.28564s client received 100 bytes from 10.3.0.2 port 9\n",
      "At time +4.28564s client received 100 bytes from 10.3.3.2 port 9\n",
      "At time +5s client sent 100 bytes to 10.3.2.2 port 9\n",
      "At time +5s client sent 100 bytes to 10.3.0.2 port 9\n",
      "At time +5s client sent 100 bytes to 10.3.1.2 port 9\n",
      "At time +5s client sent 100 bytes to 10.3.3.2 port 9\n",
      "At time +5.12695s server received 100 bytes from 10.0.0.1 port 49153\n",
      "At time +5.12695s server sent 100 bytes to 10.0.0.1 port 49153\n",
      "At time +5.12695s server received 100 bytes from 10.0.2.1 port 49153\n",
      "At time +5.12695s server sent 100 bytes to 10.0.2.1 port 49153\n",
      "At time +5.15869s server received 100 bytes from 10.0.3.1 port 49153\n",
      "At time +5.15869s server sent 100 bytes to 10.0.3.1 port 49153\n",
      "At time +5.15869s server received 100 bytes from 10.0.1.1 port 49153\n",
      "At time +5.15869s server sent 100 bytes to 10.0.1.1 port 49153\n",
      "At time +5.25391s client received 100 bytes from 10.3.2.2 port 9\n",
      "At time +5.25391s client received 100 bytes from 10.3.1.2 port 9\n",
      "At time +5.28564s client received 100 bytes from 10.3.0.2 port 9\n",
      "At time +5.28564s client received 100 bytes from 10.3.3.2 port 9\n",
      "At time +6s client sent 100 bytes to 10.3.2.2 port 9\n",
      "At time +6s client sent 100 bytes to 10.3.0.2 port 9\n",
      "At time +6s client sent 100 bytes to 10.3.1.2 port 9\n",
      "At time +6s client sent 100 bytes to 10.3.3.2 port 9\n",
      "At time +6.12695s server received 100 bytes from 10.0.0.1 port 49153\n",
      "At time +6.12695s server sent 100 bytes to 10.0.0.1 port 49153\n",
      "At time +6.12695s server received 100 bytes from 10.0.2.1 port 49153\n",
      "At time +6.12695s server sent 100 bytes to 10.0.2.1 port 49153\n",
      "At time +6.15869s server received 100 bytes from 10.0.3.1 port 49153\n",
      "At time +6.15869s server sent 100 bytes to 10.0.3.1 port 49153\n",
      "At time +6.15869s server received 100 bytes from 10.0.1.1 port 49153\n",
      "At time +6.15869s server sent 100 bytes to 10.0.1.1 port 49153\n",
      "At time +6.25391s client received 100 bytes from 10.3.2.2 port 9\n",
      "At time +6.25391s client received 100 bytes from 10.3.1.2 port 9\n",
      "At time +6.28564s client received 100 bytes from 10.3.0.2 port 9\n",
      "At time +6.28564s client received 100 bytes from 10.3.3.2 port 9\n",
      "At time +7s client sent 100 bytes to 10.3.2.2 port 9\n",
      "At time +7s client sent 100 bytes to 10.3.0.2 port 9\n",
      "At time +7s client sent 100 bytes to 10.3.1.2 port 9\n",
      "At time +7s client sent 100 bytes to 10.3.3.2 port 9\n",
      "At time +7.12695s server received 100 bytes from 10.0.0.1 port 49153\n",
      "At time +7.12695s server sent 100 bytes to 10.0.0.1 port 49153\n",
      "At time +7.12695s server received 100 bytes from 10.0.2.1 port 49153\n",
      "At time +7.12695s server sent 100 bytes to 10.0.2.1 port 49153\n",
      "At time +7.15869s server received 100 bytes from 10.0.3.1 port 49153\n",
      "At time +7.15869s server sent 100 bytes to 10.0.3.1 port 49153\n",
      "At time +7.15869s server received 100 bytes from 10.0.1.1 port 49153\n",
      "At time +7.15869s server sent 100 bytes to 10.0.1.1 port 49153\n",
      "At time +7.25391s client received 100 bytes from 10.3.2.2 port 9\n",
      "At time +7.25391s client received 100 bytes from 10.3.1.2 port 9\n",
      "At time +7.28564s client received 100 bytes from 10.3.0.2 port 9\n",
      "At time +7.28564s client received 100 bytes from 10.3.3.2 port 9\n",
      "At time +8s client sent 100 bytes to 10.3.2.2 port 9\n",
      "At time +8s client sent 100 bytes to 10.3.0.2 port 9\n",
      "At time +8s client sent 100 bytes to 10.3.1.2 port 9\n",
      "At time +8s client sent 100 bytes to 10.3.3.2 port 9\n",
      "At time +8.12695s server received 100 bytes from 10.0.0.1 port 49153\n",
      "At time +8.12695s server sent 100 bytes to 10.0.0.1 port 49153\n",
      "At time +8.12695s server received 100 bytes from 10.0.2.1 port 49153\n",
      "At time +8.12695s server sent 100 bytes to 10.0.2.1 port 49153\n",
      "At time +8.15869s server received 100 bytes from 10.0.3.1 port 49153\n",
      "At time +8.15869s server sent 100 bytes to 10.0.3.1 port 49153\n",
      "At time +8.15869s server received 100 bytes from 10.0.1.1 port 49153\n",
      "At time +8.15869s server sent 100 bytes to 10.0.1.1 port 49153\n",
      "At time +8.25391s client received 100 bytes from 10.3.2.2 port 9\n",
      "At time +8.25391s client received 100 bytes from 10.3.1.2 port 9\n",
      "At time +8.28564s client received 100 bytes from 10.3.0.2 port 9\n",
      "At time +8.28564s client received 100 bytes from 10.3.3.2 port 9\n",
      "At time +9s client sent 100 bytes to 10.3.2.2 port 9\n",
      "At time +9s client sent 100 bytes to 10.3.0.2 port 9\n",
      "At time +9s client sent 100 bytes to 10.3.1.2 port 9\n",
      "At time +9s client sent 100 bytes to 10.3.3.2 port 9\n",
      "At time +9.12695s server received 100 bytes from 10.0.0.1 port 49153\n",
      "At time +9.12695s server sent 100 bytes to 10.0.0.1 port 49153\n",
      "At time +9.12695s server received 100 bytes from 10.0.2.1 port 49153\n",
      "At time +9.12695s server sent 100 bytes to 10.0.2.1 port 49153\n",
      "At time +9.15869s server received 100 bytes from 10.0.3.1 port 49153\n",
      "At time +9.15869s server sent 100 bytes to 10.0.3.1 port 49153\n",
      "At time +9.15869s server received 100 bytes from 10.0.1.1 port 49153\n",
      "At time +9.15869s server sent 100 bytes to 10.0.1.1 port 49153\n",
      "At time +9.25391s client received 100 bytes from 10.3.2.2 port 9\n",
      "At time +9.25391s client received 100 bytes from 10.3.1.2 port 9\n",
      "At time +9.28564s client received 100 bytes from 10.3.0.2 port 9\n",
      "At time +9.28564s client received 100 bytes from 10.3.3.2 port 9\n"
     ]
    }
   ],
   "source": [
    "ns.core.Simulator.Run()\n",
    "ns.core.Simulator.Destroy()"
   ]
  },
  {
   "cell_type": "markdown",
   "id": "2ac5d43d-bc51-4eae-b028-b96c10325937",
   "metadata": {},
   "source": [
    "## Task"
   ]
  },
  {
   "cell_type": "markdown",
   "id": "82e6fc6f-140f-4a8c-b100-9c0fb8f975d4",
   "metadata": {},
   "source": [
    "1. Limit the network bandwidth and try to check a non-blocking nature of Clos network."
   ]
  }
 ],
 "metadata": {
  "kernelspec": {
   "display_name": "Python 3 (ipykernel)",
   "language": "python",
   "name": "python3"
  },
  "language_info": {
   "codemirror_mode": {
    "name": "ipython",
    "version": 3
   },
   "file_extension": ".py",
   "mimetype": "text/x-python",
   "name": "python",
   "nbconvert_exporter": "python",
   "pygments_lexer": "ipython3",
   "version": "3.10.12"
  }
 },
 "nbformat": 4,
 "nbformat_minor": 5
}
