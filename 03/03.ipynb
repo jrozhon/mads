{
 "cells": [
  {
   "cell_type": "markdown",
   "id": "fbaa87d3-4eb1-4531-a8f8-ad42780d9a72",
   "metadata": {},
   "source": [
    "# L2 Bridging and Queue Parameters"
   ]
  },
  {
   "cell_type": "markdown",
   "id": "49fce4e0-4178-4abb-ae1c-b7d43b9242f7",
   "metadata": {},
   "source": [
    "<div style=\"max-width:600px;margin-left: 0; margin-right: auto;\">\n",
    "    <img src=\"fig/3nets.drawio.png\" alt=\"Drawing\" style=\"width: 600px;\"/>\n",
    "</div>"
   ]
  },
  {
   "cell_type": "markdown",
   "id": "616250df-d6d4-4ac2-853d-9c327213a232",
   "metadata": {},
   "source": [
    "The color of lines tells what network segment is used."
   ]
  },
  {
   "cell_type": "code",
   "execution_count": null,
   "id": "89be9e1a-99f8-43b4-b5d5-cc695afa9a7c",
   "metadata": {},
   "outputs": [],
   "source": [
    "from ns import ns"
   ]
  },
  {
   "cell_type": "code",
   "execution_count": null,
   "id": "da5c76e2-dfec-4d5c-929e-f5abebcf7728",
   "metadata": {},
   "outputs": [],
   "source": [
    "import random\n",
    "from typing import Union\n",
    "\n",
    "ns.cppyy.cppdef(\"\"\"\n",
    "    EventImpl* MakeChangeIntervalEvent(void (*f)(Ptr<UdpEchoClient>), Ptr<UdpEchoClient> app)\n",
    "    {\n",
    "        return MakeEvent(f, app);\n",
    "    }\n",
    "\"\"\")\n",
    "\n",
    "def change_interval_event(echo_client: Union[ns.UdpEchoClient, ns.Ptr]) -> None:\n",
    "    try:\n",
    "        echo_client = echo_client.__deref__()\n",
    "    except AttributeError as e:\n",
    "        # already a UdpEchoClient\n",
    "        pass\n",
    "    interval = random.randint(100,500) / 1000\n",
    "    echo_client.SetAttribute(\"Interval\", ns.core.TimeValue(ns.core.Seconds(interval)))\n",
    "    event = ns.cppyy.gbl.MakeChangeIntervalEvent(change_interval_event, echo_client)\n",
    "    ns.Simulator.Schedule(ns.Seconds(5), event)\n"
   ]
  },
  {
   "cell_type": "markdown",
   "id": "7bd86f00-ebe6-45fb-a25e-d15085a6f459",
   "metadata": {},
   "source": [
    "## Network definition and Container creation"
   ]
  },
  {
   "cell_type": "code",
   "execution_count": null,
   "id": "bd49d99c-6eb3-450a-bdf4-0eeb12f5beff",
   "metadata": {},
   "outputs": [],
   "source": [
    "networks = (1,2,3)\n",
    "node_containers = []\n",
    "\n",
    "bridge_device_containers = [ns.internet.NetDeviceContainer() for _ in range(len(networks))]\n",
    "net_device_containers = [ns.internet.NetDeviceContainer() for _ in range(len(networks))]\n",
    "\n",
    "switch_container = ns.network.NodeContainer()\n",
    "switch_container.Create(len(networks))\n",
    "router_node_container = ns.network.NodeContainer()\n",
    "router_node_container.Create(1)"
   ]
  },
  {
   "cell_type": "markdown",
   "id": "ba653171-c0a0-477a-b584-7a623157bc54",
   "metadata": {},
   "source": [
    "> Note that we are creating a container for a single node. This is because of the internet stack installation several steps later."
   ]
  },
  {
   "cell_type": "code",
   "execution_count": null,
   "id": "384edd50-f7d3-42e9-888c-89d36c9ef4f6",
   "metadata": {},
   "outputs": [],
   "source": [
    "for network in networks:\n",
    "    node_container = ns.network.NodeContainer()\n",
    "    node_container.Create(3)\n",
    "    node_containers.append(node_container)"
   ]
  },
  {
   "cell_type": "markdown",
   "id": "86e441db-b4e4-46a4-8210-a13e69f26e01",
   "metadata": {},
   "source": [
    "## Link creation"
   ]
  },
  {
   "cell_type": "markdown",
   "id": "ad362f6a-9697-43d2-93c9-d120509f0220",
   "metadata": {},
   "source": [
    "> Note that for bridged devices we cannot use Point-to-Point links."
   ]
  },
  {
   "cell_type": "code",
   "execution_count": null,
   "id": "c8adbb7f-9900-45b4-bf4a-fbf13f9d5f5c",
   "metadata": {},
   "outputs": [],
   "source": [
    "csma = ns.csma.CsmaHelper()"
   ]
  },
  {
   "cell_type": "code",
   "execution_count": null,
   "id": "6aa234b2-3cd9-4972-9e0a-0de466f65f9c",
   "metadata": {},
   "outputs": [],
   "source": [
    "for idx, node_container in enumerate(node_containers):\n",
    "    for node_idx in range(node_container.GetN()):\n",
    "        csma_node_pair = ns.network.NodeContainer()\n",
    "        csma_node_pair.Add(node_container.Get(node_idx))\n",
    "        csma_node_pair.Add(switch_container.Get(idx))\n",
    "        devices = csma.Install(csma_node_pair)\n",
    "        bridge_device_containers[idx].Add(devices.Get(1))\n",
    "        net_device_containers[idx].Add(devices.Get(0))\n",
    "    csma_node_pair = ns.network.NodeContainer()\n",
    "    csma_node_pair.Add(switch_container.Get(idx))\n",
    "    csma_node_pair.Add(router_node_container.Get(0))\n",
    "    devices = csma.Install(csma_node_pair)\n",
    "    bridge_device_containers[idx].Add(devices.Get(0))\n",
    "    net_device_containers[idx].Add(devices.Get(1))"
   ]
  },
  {
   "cell_type": "markdown",
   "id": "b9b9c13e-bb68-4bcc-9238-b3937d1d87d7",
   "metadata": {},
   "source": [
    "## Create bridges"
   ]
  },
  {
   "cell_type": "code",
   "execution_count": null,
   "id": "cd27bb34-7081-4af8-9728-cb69817f2d3a",
   "metadata": {},
   "outputs": [],
   "source": [
    "bridge_helper = ns.bridge.BridgeHelper()"
   ]
  },
  {
   "cell_type": "code",
   "execution_count": null,
   "id": "01d89fc0-7191-4b2c-8892-301eb36c35d5",
   "metadata": {},
   "outputs": [],
   "source": [
    "for idx, bridge_device_container in enumerate(bridge_device_containers):\n",
    "    bridge_helper.Install(switch_container.Get(idx), bridge_device_container)"
   ]
  },
  {
   "cell_type": "markdown",
   "id": "a407a083-7cd0-4bf9-a312-b6e59db98376",
   "metadata": {},
   "source": [
    "### Task\n",
    "\n",
    "Check the number of devices on switches."
   ]
  },
  {
   "cell_type": "markdown",
   "id": "ccf41d16-14a0-47c3-8f70-75aa2b4d524d",
   "metadata": {},
   "source": [
    "## Adding network stack"
   ]
  },
  {
   "cell_type": "code",
   "execution_count": null,
   "id": "a92a1513-2fdd-49b8-83fc-0120a40ee99d",
   "metadata": {},
   "outputs": [],
   "source": [
    "internet = ns.internet.InternetStackHelper()\n",
    "\n",
    "for node_container in node_containers:\n",
    "    internet.Install(node_container)\n",
    "\n",
    "# this step can cause a kernel reset if performed on nodes directly\n",
    "internet.Install(router_node_container)"
   ]
  },
  {
   "cell_type": "code",
   "execution_count": null,
   "id": "befcaefe-75f6-47bf-b975-1f420a3a4ba2",
   "metadata": {},
   "outputs": [],
   "source": [
    "addr = ns.internet.Ipv4AddressHelper()\n",
    "addr.SetBase(ns.network.Ipv4Address(f\"10.0.{networks[0]}.0\"),\n",
    "                ns.network.Ipv4Mask(\"255.255.255.0\"))\n",
    "\n",
    "ifaces = []\n",
    "\n",
    "for idx, network_id in enumerate(networks):\n",
    "    device_ifaces = addr.Assign(net_device_containers[idx])\n",
    "    ifaces.append(device_ifaces)\n",
    "    addr.NewNetwork()"
   ]
  },
  {
   "cell_type": "code",
   "execution_count": null,
   "id": "5e73cff4-216c-49e2-9314-88d15d05fa34",
   "metadata": {},
   "outputs": [],
   "source": [
    "ifaces"
   ]
  },
  {
   "cell_type": "code",
   "execution_count": null,
   "id": "9e1d63f5-0146-4aac-8b38-31ab9d736ff4",
   "metadata": {},
   "outputs": [],
   "source": [
    "ifaces[0].GetN()"
   ]
  },
  {
   "cell_type": "markdown",
   "id": "0c3b81b6-c98e-48db-b832-9d3ba9e1486b",
   "metadata": {},
   "source": [
    "## Adding applications\n",
    "\n",
    "- Servers: on each 3rd node and also on 2nd node of red and blue networks.\n",
    "- Clients: on each 1st node and also on 2nd node of yellow network."
   ]
  },
  {
   "cell_type": "code",
   "execution_count": null,
   "id": "df959902-5f22-45fe-aae9-d4b123c50e7e",
   "metadata": {},
   "outputs": [],
   "source": [
    "local_servers = ns.network.NodeContainer()\n",
    "local_clients = ns.network.NodeContainer()\n",
    "remote_servers = ns.network.NodeContainer()\n",
    "remote_clients = ns.network.NodeContainer()\n",
    "\n",
    "for idx, network_id in enumerate(networks):\n",
    "    local_servers.Add(node_containers[idx].Get(2))\n",
    "    local_clients.Add(node_containers[idx].Get(0))\n",
    "    if idx == 0:\n",
    "        remote_clients.Add(node_containers[idx].Get(1))\n",
    "    else:\n",
    "        remote_servers.Add(node_containers[idx].Get(1))\n",
    "\n",
    "servers = ns.network.NodeContainer()\n",
    "servers.Add(local_servers)\n",
    "servers.Add(remote_servers)"
   ]
  },
  {
   "cell_type": "code",
   "execution_count": null,
   "id": "b38d7ceb-5278-4667-a744-f977fc43fffa",
   "metadata": {},
   "outputs": [],
   "source": [
    "ECHO_PORT = 9"
   ]
  },
  {
   "cell_type": "code",
   "execution_count": null,
   "id": "402018a8-e294-4028-867c-89e0ed45d015",
   "metadata": {},
   "outputs": [],
   "source": [
    "echo_srv_helper = ns.UdpEchoServerHelper(ECHO_PORT)\n",
    "srv_apps = echo_srv_helper.Install(servers)\n",
    "print(f\"Servers: {srv_apps.GetN()}\")"
   ]
  },
  {
   "cell_type": "code",
   "execution_count": null,
   "id": "22d99f2f-752a-4bee-b81b-b11358e4de01",
   "metadata": {},
   "outputs": [],
   "source": [
    "from lib.utils import get_node_ips, create_echo_client_helper"
   ]
  },
  {
   "cell_type": "code",
   "execution_count": null,
   "id": "715a1aba-6bf3-43dd-8c2e-69e961acfabc",
   "metadata": {},
   "outputs": [],
   "source": [
    "get_node_ips(servers.Get(0), verbose=True)"
   ]
  },
  {
   "cell_type": "code",
   "execution_count": null,
   "id": "44be4901-8545-47b2-8a91-f89f04e57e23",
   "metadata": {},
   "outputs": [],
   "source": [
    "echo_clients = ns.applications.ApplicationContainer()\n",
    "for local_client_idx in range(local_clients.GetN()):\n",
    "    local_server_node = local_servers.Get(local_client_idx)\n",
    "    # always second interface, then first address\n",
    "    local_server_address = get_node_ips(local_server_node)[1][0].GetAddress().ConvertTo()\n",
    "    \n",
    "    echo_client_helper = create_echo_client_helper(local_server_address, ECHO_PORT)\n",
    "    echo_client_app = echo_client_helper.Install(local_clients.Get(local_client_idx))\n",
    "    echo_clients.Add(echo_client_app)\n",
    "\n",
    "remote_server_address = get_node_ips(remote_servers.Get(0))[1][0].GetAddress().ConvertTo()\n",
    "\n",
    "echo_client_helper = create_echo_client_helper(remote_server_address, ECHO_PORT)\n",
    "echo_client_app = echo_client_helper.Install(remote_clients.Get(0))\n",
    "echo_clients.Add(echo_client_app)\n",
    "\n",
    "remote_server_address = get_node_ips(remote_servers.Get(1))[1][0].GetAddress().ConvertTo()\n",
    "\n",
    "echo_client_helper = create_echo_client_helper(remote_server_address, ECHO_PORT)\n",
    "echo_client_app = echo_client_helper.Install(remote_clients.Get(0))\n",
    "echo_clients.Add(echo_client_app)"
   ]
  },
  {
   "cell_type": "markdown",
   "id": "ded57d0e-35c3-4d80-a17a-e65ed0745431",
   "metadata": {},
   "source": [
    "### Task\n",
    "\n",
    "Randomize the packet sending times."
   ]
  },
  {
   "cell_type": "markdown",
   "id": "c75a4005-3d7d-4ac7-9714-3f35961e4548",
   "metadata": {},
   "source": [
    "## Install routing tables"
   ]
  },
  {
   "cell_type": "code",
   "execution_count": null,
   "id": "12d73f2d-7d2e-419b-9ad9-e17234e6a643",
   "metadata": {},
   "outputs": [],
   "source": [
    "ns.internet.Ipv4GlobalRoutingHelper.PopulateRoutingTables()"
   ]
  },
  {
   "cell_type": "markdown",
   "id": "3189b759-f38d-4e11-94f2-35822779fbc3",
   "metadata": {},
   "source": [
    "## Schedule events"
   ]
  },
  {
   "cell_type": "code",
   "execution_count": null,
   "id": "bc03e9b4-d5a6-4572-9344-b5a008577535",
   "metadata": {},
   "outputs": [],
   "source": [
    "# Schedule packet size change\n",
    "ec = echo_clients.Get(0).GetObject[ns.UdpEchoClient]()\n",
    "event = ns.cppyy.gbl.MakeChangeIntervalEvent(change_interval_event, ec)\n",
    "ns.Simulator.Schedule(ns.Seconds(5), event)"
   ]
  },
  {
   "cell_type": "markdown",
   "id": "66f497f8-972c-4e10-bc92-d82bd261ba15",
   "metadata": {},
   "source": [
    "## Timing the simulation"
   ]
  },
  {
   "cell_type": "code",
   "execution_count": null,
   "id": "e0280eb6-79b0-4c15-82ef-bdf2189239db",
   "metadata": {},
   "outputs": [],
   "source": [
    "srv_apps.Start(ns.core.Seconds(1.0))\n",
    "srv_apps.Stop(ns.core.Seconds(30.0))\n",
    "echo_clients.Start(ns.core.Seconds(2.0)) # has to be later than server\n",
    "echo_clients.Stop(ns.core.Seconds(30.0))"
   ]
  },
  {
   "cell_type": "markdown",
   "id": "3c2dc8ce-1d32-479a-9952-fe6e74d3f237",
   "metadata": {},
   "source": [
    "## Enabling logging for applications"
   ]
  },
  {
   "cell_type": "code",
   "execution_count": null,
   "id": "d9868f7b-03d5-499a-9bf1-d31b3f9fb794",
   "metadata": {},
   "outputs": [],
   "source": [
    "ns.LogComponentEnable(\"UdpEchoClientApplication\", ns.core.LOG_LEVEL_INFO)\n",
    "ns.LogComponentEnable(\"UdpEchoServerApplication\", ns.core.LOG_LEVEL_INFO)"
   ]
  },
  {
   "cell_type": "markdown",
   "id": "1cd910d3-3fe1-49a4-b6d3-476f3fe6b771",
   "metadata": {},
   "source": [
    "## Running the simulation"
   ]
  },
  {
   "cell_type": "code",
   "execution_count": null,
   "id": "fc177d54-b5ee-460e-95f7-e973b7c4284a",
   "metadata": {},
   "outputs": [],
   "source": [
    "ns.Simulator.Stop(ns.Seconds(35))\n",
    "ns.Simulator.Run()\n",
    "ns.Simulator.Destroy()"
   ]
  }
 ],
 "metadata": {
  "kernelspec": {
   "display_name": "Python 3 (ipykernel)",
   "language": "python",
   "name": "python3"
  },
  "language_info": {
   "codemirror_mode": {
    "name": "ipython",
    "version": 3
   },
   "file_extension": ".py",
   "mimetype": "text/x-python",
   "name": "python",
   "nbconvert_exporter": "python",
   "pygments_lexer": "ipython3",
   "version": "3.10.12"
  }
 },
 "nbformat": 4,
 "nbformat_minor": 5
}
